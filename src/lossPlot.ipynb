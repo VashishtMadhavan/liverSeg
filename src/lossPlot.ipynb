{
 "cells": [
  {
   "cell_type": "code",
   "execution_count": 265,
   "metadata": {
    "collapsed": true
   },
   "outputs": [],
   "source": [
    "import os\n",
    "import matplotlib.pyplot as plt\n",
    "%matplotlib inline"
   ]
  },
  {
   "cell_type": "code",
   "execution_count": 266,
   "metadata": {
    "collapsed": true
   },
   "outputs": [],
   "source": [
    "# option 0 = Train Loss\n",
    "# option 1 = Test Loss\n",
    "\n",
    "def plotLog(logFile,option=\"0\"):    \n",
    "    lines = [x.rstrip() for x in open(logFile).readlines()]\n",
    "    \n",
    "    if option == \"0\":\n",
    "        temp = [l for l in lines if \"loss =\" in l and \"Iteration\" in l]\n",
    "        iters = [int(x.split(',')[0].split()[-1]) for x in temp]\n",
    "        results = [float(t.split('=')[-1]) for t in temp]\n",
    "    elif option == \"1\":\n",
    "        temp = [l for l in lines if \"Test net output\" in l and \"loss\" in l]\n",
    "        iters = [l for l in lines if \"Testing net\" in l and \"Iteration\" in l]\n",
    "        iters = [int(x.split(',')[0].split()[-1]) for x in iters]\n",
    "        results = [float(t.split('=')[-1].split()[0]) for t in temp]\n",
    "        \n",
    "    plt.plot(iters,results)\n",
    "    plt.xlabel(\"Iterations\")\n",
    "    if option  == \"0\":\n",
    "        plt.ylabel(\"Train Loss\")\n",
    "    elif option == \"1\":\n",
    "        plt.ylabel('Test Loss')"
   ]
  },
  {
   "cell_type": "markdown",
   "metadata": {},
   "source": [
    "## Training Loss"
   ]
  },
  {
   "cell_type": "code",
   "execution_count": null,
   "metadata": {
    "collapsed": true
   },
   "outputs": [],
   "source": [
    "train_log = \"../runs/baseline/train.log\"\n",
    "plotSemiLog(train_log)"
   ]
  }
 ],
 "metadata": {
  "kernelspec": {
   "display_name": "Python [Root]",
   "language": "python",
   "name": "Python [Root]"
  },
  "language_info": {
   "codemirror_mode": {
    "name": "ipython",
    "version": 2
   },
   "file_extension": ".py",
   "mimetype": "text/x-python",
   "name": "python",
   "nbconvert_exporter": "python",
   "pygments_lexer": "ipython2",
   "version": "2.7.12"
  }
 },
 "nbformat": 4,
 "nbformat_minor": 0
}
